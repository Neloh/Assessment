{
 "cells": [
  {
   "cell_type": "markdown",
   "metadata": {},
   "source": [
    "### Author : Sibonelo Ngobese\n",
    "### Run this script using Python 3.x\n",
    "### Date : 31 July 2018"
   ]
  },
  {
   "cell_type": "code",
   "execution_count": 1,
   "metadata": {},
   "outputs": [
    {
     "name": "stderr",
     "output_type": "stream",
     "text": [
      "Python 3.6.6 :: Anaconda custom (64-bit)\n"
     ]
    }
   ],
   "source": [
    "# 1.\n",
    "!python.exe --version\n",
    "# Import relevant libraries\n",
    "%matplotlib inline\n",
    "\n",
    "import pandas as pd\n",
    "import numpy as np\n",
    "\n",
    "import matplotlib.pyplot as plt\n",
    "import sklearn\n",
    "import pickle\n",
    "from sklearn.model_selection import train_test_split"
   ]
  },
  {
   "cell_type": "markdown",
   "metadata": {},
   "source": [
    "#### Firstly use pandas to open this dataset"
   ]
  },
  {
   "cell_type": "code",
   "execution_count": 2,
   "metadata": {},
   "outputs": [],
   "source": [
    "# 2.\n",
    "# Firstly, Open the CSV file\n",
    "open_csv = pd.read_csv(\"assessment_data.csv\")"
   ]
  },
  {
   "cell_type": "code",
   "execution_count": 3,
   "metadata": {
    "scrolled": true
   },
   "outputs": [
    {
     "data": {
      "text/html": [
       "<div>\n",
       "<style scoped>\n",
       "    .dataframe tbody tr th:only-of-type {\n",
       "        vertical-align: middle;\n",
       "    }\n",
       "\n",
       "    .dataframe tbody tr th {\n",
       "        vertical-align: top;\n",
       "    }\n",
       "\n",
       "    .dataframe thead th {\n",
       "        text-align: right;\n",
       "    }\n",
       "</style>\n",
       "<table border=\"1\" class=\"dataframe\">\n",
       "  <thead>\n",
       "    <tr style=\"text-align: right;\">\n",
       "      <th></th>\n",
       "      <th>target_var</th>\n",
       "      <th>feature_1</th>\n",
       "      <th>feature_2</th>\n",
       "      <th>feature_3</th>\n",
       "      <th>feature_4</th>\n",
       "      <th>feature_5</th>\n",
       "      <th>feature_6</th>\n",
       "      <th>feature_7</th>\n",
       "      <th>feature_8</th>\n",
       "      <th>feature_9</th>\n",
       "    </tr>\n",
       "  </thead>\n",
       "  <tbody>\n",
       "    <tr>\n",
       "      <th>0</th>\n",
       "      <td>1</td>\n",
       "      <td>211.3375</td>\n",
       "      <td>0</td>\n",
       "      <td>0</td>\n",
       "      <td>bigollo-16</td>\n",
       "      <td>blue</td>\n",
       "      <td>29.0000</td>\n",
       "      <td>1</td>\n",
       "      <td>sigma</td>\n",
       "      <td>112.877941</td>\n",
       "    </tr>\n",
       "    <tr>\n",
       "      <th>1</th>\n",
       "      <td>1</td>\n",
       "      <td>151.5500</td>\n",
       "      <td>2</td>\n",
       "      <td>1</td>\n",
       "      <td>cantor-33</td>\n",
       "      <td>pink</td>\n",
       "      <td>0.9167</td>\n",
       "      <td>1</td>\n",
       "      <td>sigma</td>\n",
       "      <td>60.291423</td>\n",
       "    </tr>\n",
       "    <tr>\n",
       "      <th>2</th>\n",
       "      <td>0</td>\n",
       "      <td>151.5500</td>\n",
       "      <td>2</td>\n",
       "      <td>1</td>\n",
       "      <td>cantor-33</td>\n",
       "      <td>blue</td>\n",
       "      <td>2.0000</td>\n",
       "      <td>1</td>\n",
       "      <td>sigma</td>\n",
       "      <td>143.794103</td>\n",
       "    </tr>\n",
       "    <tr>\n",
       "      <th>3</th>\n",
       "      <td>0</td>\n",
       "      <td>151.5500</td>\n",
       "      <td>2</td>\n",
       "      <td>1</td>\n",
       "      <td>cantor-33</td>\n",
       "      <td>pink</td>\n",
       "      <td>30.0000</td>\n",
       "      <td>1</td>\n",
       "      <td>sigma</td>\n",
       "      <td>131.278352</td>\n",
       "    </tr>\n",
       "    <tr>\n",
       "      <th>4</th>\n",
       "      <td>0</td>\n",
       "      <td>151.5500</td>\n",
       "      <td>2</td>\n",
       "      <td>1</td>\n",
       "      <td>cantor-33</td>\n",
       "      <td>blue</td>\n",
       "      <td>25.0000</td>\n",
       "      <td>1</td>\n",
       "      <td>sigma</td>\n",
       "      <td>204.415716</td>\n",
       "    </tr>\n",
       "  </tbody>\n",
       "</table>\n",
       "</div>"
      ],
      "text/plain": [
       "   target_var  feature_1  feature_2  feature_3   feature_4 feature_5  \\\n",
       "0           1   211.3375          0          0  bigollo-16      blue   \n",
       "1           1   151.5500          2          1   cantor-33      pink   \n",
       "2           0   151.5500          2          1   cantor-33      blue   \n",
       "3           0   151.5500          2          1   cantor-33      pink   \n",
       "4           0   151.5500          2          1   cantor-33      blue   \n",
       "\n",
       "   feature_6  feature_7 feature_8   feature_9  \n",
       "0    29.0000          1     sigma  112.877941  \n",
       "1     0.9167          1     sigma   60.291423  \n",
       "2     2.0000          1     sigma  143.794103  \n",
       "3    30.0000          1     sigma  131.278352  \n",
       "4    25.0000          1     sigma  204.415716  "
      ]
     },
     "execution_count": 3,
     "metadata": {},
     "output_type": "execute_result"
    }
   ],
   "source": [
    "# 3.\n",
    "# See the first rows\n",
    "open_csv.head()"
   ]
  },
  {
   "cell_type": "markdown",
   "metadata": {},
   "source": [
    "#### Is there any interesting stats?"
   ]
  },
  {
   "cell_type": "code",
   "execution_count": 4,
   "metadata": {
    "scrolled": true
   },
   "outputs": [
    {
     "data": {
      "text/html": [
       "<div>\n",
       "<style scoped>\n",
       "    .dataframe tbody tr th:only-of-type {\n",
       "        vertical-align: middle;\n",
       "    }\n",
       "\n",
       "    .dataframe tbody tr th {\n",
       "        vertical-align: top;\n",
       "    }\n",
       "\n",
       "    .dataframe thead th {\n",
       "        text-align: right;\n",
       "    }\n",
       "</style>\n",
       "<table border=\"1\" class=\"dataframe\">\n",
       "  <thead>\n",
       "    <tr style=\"text-align: right;\">\n",
       "      <th></th>\n",
       "      <th>target_var</th>\n",
       "      <th>feature_1</th>\n",
       "      <th>feature_2</th>\n",
       "      <th>feature_3</th>\n",
       "      <th>feature_6</th>\n",
       "      <th>feature_7</th>\n",
       "      <th>feature_9</th>\n",
       "    </tr>\n",
       "  </thead>\n",
       "  <tbody>\n",
       "    <tr>\n",
       "      <th>count</th>\n",
       "      <td>1309.000000</td>\n",
       "      <td>1308.000000</td>\n",
       "      <td>1309.000000</td>\n",
       "      <td>1309.000000</td>\n",
       "      <td>1046.000000</td>\n",
       "      <td>1309.000000</td>\n",
       "      <td>1309.000000</td>\n",
       "    </tr>\n",
       "    <tr>\n",
       "      <th>mean</th>\n",
       "      <td>0.381971</td>\n",
       "      <td>33.295479</td>\n",
       "      <td>0.385027</td>\n",
       "      <td>0.498854</td>\n",
       "      <td>29.881135</td>\n",
       "      <td>2.294882</td>\n",
       "      <td>101.794120</td>\n",
       "    </tr>\n",
       "    <tr>\n",
       "      <th>std</th>\n",
       "      <td>0.486055</td>\n",
       "      <td>51.758668</td>\n",
       "      <td>0.865560</td>\n",
       "      <td>1.041658</td>\n",
       "      <td>14.413500</td>\n",
       "      <td>0.837836</td>\n",
       "      <td>50.890853</td>\n",
       "    </tr>\n",
       "    <tr>\n",
       "      <th>min</th>\n",
       "      <td>0.000000</td>\n",
       "      <td>0.000000</td>\n",
       "      <td>0.000000</td>\n",
       "      <td>0.000000</td>\n",
       "      <td>0.166700</td>\n",
       "      <td>1.000000</td>\n",
       "      <td>-93.974333</td>\n",
       "    </tr>\n",
       "    <tr>\n",
       "      <th>25%</th>\n",
       "      <td>0.000000</td>\n",
       "      <td>7.895800</td>\n",
       "      <td>0.000000</td>\n",
       "      <td>0.000000</td>\n",
       "      <td>21.000000</td>\n",
       "      <td>2.000000</td>\n",
       "      <td>68.550768</td>\n",
       "    </tr>\n",
       "    <tr>\n",
       "      <th>50%</th>\n",
       "      <td>0.000000</td>\n",
       "      <td>14.454200</td>\n",
       "      <td>0.000000</td>\n",
       "      <td>0.000000</td>\n",
       "      <td>28.000000</td>\n",
       "      <td>3.000000</td>\n",
       "      <td>102.039185</td>\n",
       "    </tr>\n",
       "    <tr>\n",
       "      <th>75%</th>\n",
       "      <td>1.000000</td>\n",
       "      <td>31.275000</td>\n",
       "      <td>0.000000</td>\n",
       "      <td>1.000000</td>\n",
       "      <td>39.000000</td>\n",
       "      <td>3.000000</td>\n",
       "      <td>135.175053</td>\n",
       "    </tr>\n",
       "    <tr>\n",
       "      <th>max</th>\n",
       "      <td>1.000000</td>\n",
       "      <td>512.329200</td>\n",
       "      <td>9.000000</td>\n",
       "      <td>8.000000</td>\n",
       "      <td>80.000000</td>\n",
       "      <td>3.000000</td>\n",
       "      <td>264.692290</td>\n",
       "    </tr>\n",
       "  </tbody>\n",
       "</table>\n",
       "</div>"
      ],
      "text/plain": [
       "        target_var    feature_1    feature_2    feature_3    feature_6  \\\n",
       "count  1309.000000  1308.000000  1309.000000  1309.000000  1046.000000   \n",
       "mean      0.381971    33.295479     0.385027     0.498854    29.881135   \n",
       "std       0.486055    51.758668     0.865560     1.041658    14.413500   \n",
       "min       0.000000     0.000000     0.000000     0.000000     0.166700   \n",
       "25%       0.000000     7.895800     0.000000     0.000000    21.000000   \n",
       "50%       0.000000    14.454200     0.000000     0.000000    28.000000   \n",
       "75%       1.000000    31.275000     0.000000     1.000000    39.000000   \n",
       "max       1.000000   512.329200     9.000000     8.000000    80.000000   \n",
       "\n",
       "         feature_7    feature_9  \n",
       "count  1309.000000  1309.000000  \n",
       "mean      2.294882   101.794120  \n",
       "std       0.837836    50.890853  \n",
       "min       1.000000   -93.974333  \n",
       "25%       2.000000    68.550768  \n",
       "50%       3.000000   102.039185  \n",
       "75%       3.000000   135.175053  \n",
       "max       3.000000   264.692290  "
      ]
     },
     "execution_count": 4,
     "metadata": {},
     "output_type": "execute_result"
    }
   ],
   "source": [
    "# 4.\n",
    "# The describe function\n",
    "open_csv.describe()"
   ]
  },
  {
   "cell_type": "markdown",
   "metadata": {},
   "source": [
    "###### Seems like it was pointless to perform decribe on this dataset, since no useful information received from this except that we have 1310 entries/rows. Continuing:"
   ]
  },
  {
   "cell_type": "markdown",
   "metadata": {},
   "source": [
    "#### Some simple Exploratory Data Analysis (EDA)"
   ]
  },
  {
   "cell_type": "code",
   "execution_count": 5,
   "metadata": {},
   "outputs": [
    {
     "data": {
      "text/plain": [
       "0    891\n",
       "1    319\n",
       "2     42\n",
       "4     22\n",
       "3     20\n",
       "8      9\n",
       "5      6\n",
       "Name: feature_3, dtype: int64"
      ]
     },
     "execution_count": 5,
     "metadata": {},
     "output_type": "execute_result"
    }
   ],
   "source": [
    "# 5.\n",
    "\n",
    "# Value counts on feature 3? \n",
    "open_csv.feature_3.value_counts()"
   ]
  },
  {
   "cell_type": "code",
   "execution_count": 6,
   "metadata": {},
   "outputs": [
    {
     "data": {
      "text/plain": [
       "fermat          8\n",
       "cantor-34       6\n",
       "bigollo-68      5\n",
       "germain-17      5\n",
       "cantor-33       4\n",
       "fermat-15       4\n",
       "fermat-13       4\n",
       "cantor-89       4\n",
       "fermat-44       4\n",
       "bigollo-107     4\n",
       "descrates       4\n",
       "bigollo-69      3\n",
       "euler-112       3\n",
       "allen-45        3\n",
       "euler-45        3\n",
       "cantor-112      3\n",
       "bigollo-62      3\n",
       "cantor-18       2\n",
       "cantor-79       2\n",
       "euler-44        2\n",
       "bigollo-46      2\n",
       "cantor-42       2\n",
       "cantor-94       2\n",
       "descrates-46    2\n",
       "descrates-48    2\n",
       "descrates-26    2\n",
       "cantor-43       2\n",
       "descrates-30    2\n",
       "euler-78        2\n",
       "euler-57        2\n",
       "               ..\n",
       "allen-16        1\n",
       "allen-30        1\n",
       "bigollo-41      1\n",
       "cantor-110      1\n",
       "allen-27        1\n",
       "euler-88        1\n",
       "allen-20        1\n",
       "cantor-143      1\n",
       "descrates-54    1\n",
       "descrates-33    1\n",
       "cantor-60       1\n",
       "euler-69        1\n",
       "cantor-81       1\n",
       "cantor-116      1\n",
       "euler-71        1\n",
       "allen-40        1\n",
       "allen-34        1\n",
       "fermat-49       1\n",
       "descrates-17    1\n",
       "bigollo-21      1\n",
       "euler-21        1\n",
       "euler-28        1\n",
       "allen-42        1\n",
       "descrates-49    1\n",
       "bigollo-93      1\n",
       "bigollo-90      1\n",
       "bigollo-48      1\n",
       "allen-47        1\n",
       "cantor-122      1\n",
       "bigollo-63      1\n",
       "Name: feature_4, Length: 181, dtype: int64"
      ]
     },
     "execution_count": 6,
     "metadata": {},
     "output_type": "execute_result"
    }
   ],
   "source": [
    "# 6. \n",
    "# Now try feature 4\n",
    "open_csv.feature_4.value_counts()"
   ]
  },
  {
   "cell_type": "code",
   "execution_count": 7,
   "metadata": {},
   "outputs": [
    {
     "data": {
      "text/plain": [
       "array(['bigollo-16', 'cantor-33', 'euler-23', 'descrates-18', 'allen-47',\n",
       "       'cantor-112', nan, 'cantor-73', 'bigollo-46', 'allen-34',\n",
       "       'bigollo-69', 'descrates-26', 'cantor-17', 'descrates-46',\n",
       "       'cantor-159', 'cantor-108', 'bigollo-60', 'cantor-110', 'cantor-63',\n",
       "       'turing', 'allen-42', 'cantor-18', 'cantor-114', 'descrates-33',\n",
       "       'euler-44', 'allen-32', 'bigollo-21', 'bigollo-15', 'euler-51',\n",
       "       'bigollo-49', 'euler-35', 'bigollo-62', 'bigollo-107', 'cantor-57',\n",
       "       'euler-42', 'euler-19', 'bigollo-72', 'bigollo-88', 'allen-20',\n",
       "       'cantor-100', 'allen-25', 'euler-69', 'euler-60', 'euler-63',\n",
       "       'euler-56', 'bigollo-33', 'bigollo-37', 'cantor-96', 'euler-28',\n",
       "       'bigollo-82', 'bigollo-31', 'allen-45', 'cantor-97', 'allen-27',\n",
       "       'allen-31', 'allen-29', 'cantor-65', 'cantor-56', 'descrates-31',\n",
       "       'allen-40', 'cantor-106', 'euler-36', 'cantor-122', 'cantor-34',\n",
       "       'euler-47', 'descrates-45', 'descrates-51', 'bigollo-50',\n",
       "       'bigollo-52', 'bigollo-113', 'cantor-134', 'euler-74', 'cantor-141',\n",
       "       'bigollo-97', 'cantor-103', 'allen-16', 'cantor-62', 'bigollo-53',\n",
       "       'cantor-102', 'cantor-136', 'descrates-21', 'bigollo-93',\n",
       "       'euler-61', 'descrates-44', 'cantor-94', 'bigollo-105',\n",
       "       'descrates-60', 'descrates-56', 'bigollo-80', 'bigollo-22',\n",
       "       'euler-57', 'cantor-50', 'bigollo-29', 'descrates-22', 'cantor-104',\n",
       "       'bigollo-39', 'cantor-60', 'bigollo-63', 'euler-71', 'cantor-143',\n",
       "       'bigollo-48', 'descrates-32', 'descrates-30', 'cantor-135',\n",
       "       'descrates-28', 'bigollo-112', 'descrates-39', 'descrates-17',\n",
       "       'descrates-20', 'bigollo-91', 'cantor-117', 'bigollo-90',\n",
       "       'cantor-58', 'descrates-41', 'cantor-101', 'euler-49', 'cantor-89',\n",
       "       'cantor-41', 'cantor-129', 'descrates-47', 'descrates-59',\n",
       "       'descrates-58', 'cantor-116', 'bigollo-47', 'bigollo-41',\n",
       "       'descrates-54', 'bigollo-35', 'cantor-13', 'cantor-76',\n",
       "       'bigollo-84', 'cantor-115', 'cantor-121', 'cantor-61', 'bigollo-14',\n",
       "       'allen-35', 'allen-43', 'allen-22', 'allen-21', 'bigollo-68',\n",
       "       'cantor-39', 'euler-55', 'allen-37', 'allen-17', 'allen-18',\n",
       "       'cantor-42', 'allen-30', 'bigollo-56', 'euler-45', 'bigollo-89',\n",
       "       'bigollo-61', 'cantor-98', 'cantor-127', 'cantor-66',\n",
       "       'descrates-61', 'euler-79', 'euler-78', 'cantor-137', 'cantor-79',\n",
       "       'cantor-81', 'cantor-64', 'bigollo-30', 'descrates-57',\n",
       "       'descrates-48', 'descrates-37', 'cantor-43', 'cantor-91',\n",
       "       'cantor-93', 'cantor-139', 'euler-50', 'descrates', 'fermat-15',\n",
       "       'descrates-67', 'fermat-44', 'euler-112', 'euler-88', 'fermat-13',\n",
       "       'descrates-49', 'fermat', 'euler-132', 'euler-21', 'germain-17',\n",
       "       'fermat-49'], dtype=object)"
      ]
     },
     "execution_count": 7,
     "metadata": {},
     "output_type": "execute_result"
    }
   ],
   "source": [
    "# 7.\n",
    "open_csv.feature_4.unique()"
   ]
  },
  {
   "cell_type": "code",
   "execution_count": 8,
   "metadata": {},
   "outputs": [
    {
     "data": {
      "text/plain": [
       "pink    843\n",
       "blue    466\n",
       "Name: feature_5, dtype: int64"
      ]
     },
     "execution_count": 8,
     "metadata": {},
     "output_type": "execute_result"
    }
   ],
   "source": [
    "# 8.\n",
    "open_csv.feature_5.value_counts()"
   ]
  },
  {
   "cell_type": "code",
   "execution_count": 9,
   "metadata": {},
   "outputs": [
    {
     "data": {
      "text/plain": [
       "3    709\n",
       "1    323\n",
       "2    277\n",
       "Name: feature_7, dtype: int64"
      ]
     },
     "execution_count": 9,
     "metadata": {},
     "output_type": "execute_result"
    }
   ],
   "source": [
    "# 9.\n",
    "open_csv.feature_7.value_counts()"
   ]
  },
  {
   "cell_type": "code",
   "execution_count": 10,
   "metadata": {},
   "outputs": [
    {
     "data": {
      "text/plain": [
       "sigma    914\n",
       "gamma    270\n",
       "qoph     123\n",
       "Name: feature_8, dtype: int64"
      ]
     },
     "execution_count": 10,
     "metadata": {},
     "output_type": "execute_result"
    }
   ],
   "source": [
    "# 10.\n",
    "open_csv.feature_8.value_counts()"
   ]
  },
  {
   "cell_type": "code",
   "execution_count": 11,
   "metadata": {},
   "outputs": [],
   "source": [
    "# 11.\n",
    "# Create a copy to work with\n",
    "X = open_csv.copy()\n",
    "\n",
    "# Save and drop labels\n",
    "y = open_csv.target_var\n",
    "X = X.drop('target_var', axis=1)\n",
    "\n",
    "# fill NANs. I am well aware that this messes with \n",
    "# the original \"form\"/integrity of the data.\n",
    "X = X.fillna(-999)\n",
    "# This is the only type of pruning we will apply."
   ]
  },
  {
   "cell_type": "code",
   "execution_count": 12,
   "metadata": {},
   "outputs": [],
   "source": [
    "# 12.\n",
    "# Label encoder\n",
    "for c in open_csv.columns[open_csv.dtypes == 'object']:\n",
    "    X[c] = X[c].factorize()[0]\n",
    "    # This loop encodes all the categorical row entries with a value \n",
    "    # this makes it easier to apply any type of training on the dataset."
   ]
  },
  {
   "cell_type": "code",
   "execution_count": 13,
   "metadata": {},
   "outputs": [],
   "source": [
    "# 13.\n",
    "# now lets use train_test_split to avoid overfitting\n",
    "# Shuffle is left as default value = True to train on randomized 80% of the data \n",
    "X_train, X_test, y_train, y_test = train_test_split(X, y, test_size=0.20, random_state=1234, shuffle=True)\n",
    "# we use the same seed to keep the realizations the same if the randomforest is ran again"
   ]
  },
  {
   "cell_type": "markdown",
   "metadata": {},
   "source": [
    "####   Create the model : Random forest: \n",
    "It is a member of ensemble methods meaning it improves the predecessor method, in this case  a Decision Tree.\n",
    "This approach was chosen in order to drill down each feature this is why all feature columns (1-9) were used. \n",
    "Only 80 % of the data was used as training data. "
   ]
  },
  {
   "cell_type": "code",
   "execution_count": 14,
   "metadata": {},
   "outputs": [
    {
     "data": {
      "text/plain": [
       "RandomForestClassifier(bootstrap=True, class_weight=None, criterion='gini',\n",
       "            max_depth=None, max_features='auto', max_leaf_nodes=None,\n",
       "            min_impurity_decrease=0.0, min_impurity_split=None,\n",
       "            min_samples_leaf=1, min_samples_split=2,\n",
       "            min_weight_fraction_leaf=0.0, n_estimators=10, n_jobs=1,\n",
       "            oob_score=False, random_state=None, verbose=0,\n",
       "            warm_start=False)"
      ]
     },
     "execution_count": 14,
     "metadata": {},
     "output_type": "execute_result"
    }
   ],
   "source": [
    "# 14.\n",
    "from sklearn.ensemble import RandomForestClassifier\n",
    "rfmodel = RandomForestClassifier()\n",
    "rfmodel.fit(X_train, y_train)"
   ]
  },
  {
   "cell_type": "code",
   "execution_count": 15,
   "metadata": {},
   "outputs": [],
   "source": [
    "# 15.\n",
    "y_pred = rfmodel.predict(X_test)"
   ]
  },
  {
   "cell_type": "code",
   "execution_count": 16,
   "metadata": {},
   "outputs": [],
   "source": [
    "# 16.\n",
    "# Check if this has correct number of entries? \n",
    "assert len(y_pred) == len(y_test)"
   ]
  },
  {
   "cell_type": "code",
   "execution_count": 17,
   "metadata": {},
   "outputs": [],
   "source": [
    "# 17.\n",
    "# Place the predictions of the test data in a Pandas data frame\n",
    "rf_df_with_answers = pd.DataFrame({'y_pred': y_pred, 'y_true':y_test.values})"
   ]
  },
  {
   "cell_type": "code",
   "execution_count": 18,
   "metadata": {},
   "outputs": [
    {
     "data": {
      "text/html": [
       "<div>\n",
       "<style scoped>\n",
       "    .dataframe tbody tr th:only-of-type {\n",
       "        vertical-align: middle;\n",
       "    }\n",
       "\n",
       "    .dataframe tbody tr th {\n",
       "        vertical-align: top;\n",
       "    }\n",
       "\n",
       "    .dataframe thead th {\n",
       "        text-align: right;\n",
       "    }\n",
       "</style>\n",
       "<table border=\"1\" class=\"dataframe\">\n",
       "  <thead>\n",
       "    <tr style=\"text-align: right;\">\n",
       "      <th></th>\n",
       "      <th>y_pred</th>\n",
       "      <th>y_true</th>\n",
       "    </tr>\n",
       "  </thead>\n",
       "  <tbody>\n",
       "    <tr>\n",
       "      <th>0</th>\n",
       "      <td>0</td>\n",
       "      <td>0</td>\n",
       "    </tr>\n",
       "    <tr>\n",
       "      <th>1</th>\n",
       "      <td>1</td>\n",
       "      <td>0</td>\n",
       "    </tr>\n",
       "    <tr>\n",
       "      <th>2</th>\n",
       "      <td>0</td>\n",
       "      <td>0</td>\n",
       "    </tr>\n",
       "    <tr>\n",
       "      <th>3</th>\n",
       "      <td>0</td>\n",
       "      <td>0</td>\n",
       "    </tr>\n",
       "    <tr>\n",
       "      <th>4</th>\n",
       "      <td>0</td>\n",
       "      <td>0</td>\n",
       "    </tr>\n",
       "  </tbody>\n",
       "</table>\n",
       "</div>"
      ],
      "text/plain": [
       "   y_pred  y_true\n",
       "0       0       0\n",
       "1       1       0\n",
       "2       0       0\n",
       "3       0       0\n",
       "4       0       0"
      ]
     },
     "execution_count": 18,
     "metadata": {},
     "output_type": "execute_result"
    }
   ],
   "source": [
    "# 18.\n",
    "# Sanity check\n",
    "rf_df_with_answers.head()"
   ]
  },
  {
   "cell_type": "code",
   "execution_count": 19,
   "metadata": {},
   "outputs": [],
   "source": [
    "# 19.\n",
    "# Now get indexes for the all predictions made \n",
    "# Only the ones that cost the company a lot of money\n",
    "# Get the incorrect ones versus the correct predictions\n",
    "\n",
    "rf_df_with_answers_ = rf_df_with_answers.copy()\n",
    "no_loss = []\n",
    "loss_R1000 = []\n",
    "loss_R20000 = []\n",
    "index_1 = []\n",
    "index_2 = [] \n",
    "index_3 = [] \n",
    "\n",
    "# loop over all test indices\n",
    "for i in range(len(y_test.values)):\n",
    "    # This loops over all predictions that are \"Correct\"\n",
    "    if int(rf_df_with_answers_.y_true[i]) == int(rf_df_with_answers_.y_pred[i]):\n",
    "            no_loss.append(\"no_loss\") \n",
    "            index_1.append(i)\n",
    "    \n",
    "    # This following \"else if\" and else loop over all predictions that are \"Incorrect\"        \n",
    "    elif int(rf_df_with_answers_.y_true[i]) == 1 and int(rf_df_with_answers_.y_pred[i]) == 0:\n",
    "            loss_R20000.append(\"lost_R20000\") \n",
    "            index_2.append(i)\n",
    "                  \n",
    "    else:\n",
    "            loss_R1000.append(\"lost_R1000\") \n",
    "            index_3.append(i)\n",
    "# Save corresponding indices to placeholder arrays            \n",
    "index_1 = np.array(index_1)\n",
    "index_2 = np.array(index_2)\n",
    "index_3 = np.array(index_3)"
   ]
  },
  {
   "cell_type": "code",
   "execution_count": 20,
   "metadata": {},
   "outputs": [],
   "source": [
    "# 20.\n",
    "# Create a placeholder for the types of predictions made\n",
    "# in terms of string format, the way it defined allows saving strings of different lengths\n",
    "# in respective rows/entries. \n",
    "arr = np.array(np.zeros(len(y_test.values)), str) \n",
    "\n",
    "arr[index_1] = np.array(no_loss)\n",
    "arr[index_2] = np.array(loss_R20000)\n",
    "arr[index_3] = np.array(loss_R1000)\n",
    "\n",
    "# Add a new column to our answers dataframe\n",
    "rf_df_with_answers_['cost'] = arr"
   ]
  },
  {
   "cell_type": "markdown",
   "metadata": {},
   "source": [
    "### RESULTS"
   ]
  },
  {
   "cell_type": "code",
   "execution_count": 21,
   "metadata": {},
   "outputs": [
    {
     "data": {
      "text/html": [
       "<div>\n",
       "<style scoped>\n",
       "    .dataframe tbody tr th:only-of-type {\n",
       "        vertical-align: middle;\n",
       "    }\n",
       "\n",
       "    .dataframe tbody tr th {\n",
       "        vertical-align: top;\n",
       "    }\n",
       "\n",
       "    .dataframe thead th {\n",
       "        text-align: right;\n",
       "    }\n",
       "</style>\n",
       "<table border=\"1\" class=\"dataframe\">\n",
       "  <thead>\n",
       "    <tr style=\"text-align: right;\">\n",
       "      <th></th>\n",
       "      <th>y_pred</th>\n",
       "      <th>y_true</th>\n",
       "      <th>cost</th>\n",
       "    </tr>\n",
       "  </thead>\n",
       "  <tbody>\n",
       "    <tr>\n",
       "      <th>0</th>\n",
       "      <td>0</td>\n",
       "      <td>0</td>\n",
       "      <td>no_loss</td>\n",
       "    </tr>\n",
       "    <tr>\n",
       "      <th>1</th>\n",
       "      <td>1</td>\n",
       "      <td>0</td>\n",
       "      <td>lost_R1000</td>\n",
       "    </tr>\n",
       "    <tr>\n",
       "      <th>2</th>\n",
       "      <td>0</td>\n",
       "      <td>0</td>\n",
       "      <td>no_loss</td>\n",
       "    </tr>\n",
       "    <tr>\n",
       "      <th>3</th>\n",
       "      <td>0</td>\n",
       "      <td>0</td>\n",
       "      <td>no_loss</td>\n",
       "    </tr>\n",
       "    <tr>\n",
       "      <th>4</th>\n",
       "      <td>0</td>\n",
       "      <td>0</td>\n",
       "      <td>no_loss</td>\n",
       "    </tr>\n",
       "    <tr>\n",
       "      <th>5</th>\n",
       "      <td>1</td>\n",
       "      <td>1</td>\n",
       "      <td>no_loss</td>\n",
       "    </tr>\n",
       "    <tr>\n",
       "      <th>6</th>\n",
       "      <td>0</td>\n",
       "      <td>1</td>\n",
       "      <td>lost_R20000</td>\n",
       "    </tr>\n",
       "    <tr>\n",
       "      <th>7</th>\n",
       "      <td>1</td>\n",
       "      <td>1</td>\n",
       "      <td>no_loss</td>\n",
       "    </tr>\n",
       "    <tr>\n",
       "      <th>8</th>\n",
       "      <td>0</td>\n",
       "      <td>0</td>\n",
       "      <td>no_loss</td>\n",
       "    </tr>\n",
       "    <tr>\n",
       "      <th>9</th>\n",
       "      <td>1</td>\n",
       "      <td>1</td>\n",
       "      <td>no_loss</td>\n",
       "    </tr>\n",
       "    <tr>\n",
       "      <th>10</th>\n",
       "      <td>0</td>\n",
       "      <td>0</td>\n",
       "      <td>no_loss</td>\n",
       "    </tr>\n",
       "    <tr>\n",
       "      <th>11</th>\n",
       "      <td>1</td>\n",
       "      <td>0</td>\n",
       "      <td>lost_R1000</td>\n",
       "    </tr>\n",
       "    <tr>\n",
       "      <th>12</th>\n",
       "      <td>0</td>\n",
       "      <td>0</td>\n",
       "      <td>no_loss</td>\n",
       "    </tr>\n",
       "    <tr>\n",
       "      <th>13</th>\n",
       "      <td>0</td>\n",
       "      <td>0</td>\n",
       "      <td>no_loss</td>\n",
       "    </tr>\n",
       "    <tr>\n",
       "      <th>14</th>\n",
       "      <td>0</td>\n",
       "      <td>0</td>\n",
       "      <td>no_loss</td>\n",
       "    </tr>\n",
       "    <tr>\n",
       "      <th>15</th>\n",
       "      <td>1</td>\n",
       "      <td>1</td>\n",
       "      <td>no_loss</td>\n",
       "    </tr>\n",
       "    <tr>\n",
       "      <th>16</th>\n",
       "      <td>0</td>\n",
       "      <td>0</td>\n",
       "      <td>no_loss</td>\n",
       "    </tr>\n",
       "    <tr>\n",
       "      <th>17</th>\n",
       "      <td>0</td>\n",
       "      <td>1</td>\n",
       "      <td>lost_R20000</td>\n",
       "    </tr>\n",
       "    <tr>\n",
       "      <th>18</th>\n",
       "      <td>0</td>\n",
       "      <td>0</td>\n",
       "      <td>no_loss</td>\n",
       "    </tr>\n",
       "    <tr>\n",
       "      <th>19</th>\n",
       "      <td>1</td>\n",
       "      <td>0</td>\n",
       "      <td>lost_R1000</td>\n",
       "    </tr>\n",
       "    <tr>\n",
       "      <th>20</th>\n",
       "      <td>1</td>\n",
       "      <td>1</td>\n",
       "      <td>no_loss</td>\n",
       "    </tr>\n",
       "    <tr>\n",
       "      <th>21</th>\n",
       "      <td>0</td>\n",
       "      <td>1</td>\n",
       "      <td>lost_R20000</td>\n",
       "    </tr>\n",
       "    <tr>\n",
       "      <th>22</th>\n",
       "      <td>1</td>\n",
       "      <td>0</td>\n",
       "      <td>lost_R1000</td>\n",
       "    </tr>\n",
       "    <tr>\n",
       "      <th>23</th>\n",
       "      <td>0</td>\n",
       "      <td>0</td>\n",
       "      <td>no_loss</td>\n",
       "    </tr>\n",
       "    <tr>\n",
       "      <th>24</th>\n",
       "      <td>0</td>\n",
       "      <td>0</td>\n",
       "      <td>no_loss</td>\n",
       "    </tr>\n",
       "    <tr>\n",
       "      <th>25</th>\n",
       "      <td>0</td>\n",
       "      <td>0</td>\n",
       "      <td>no_loss</td>\n",
       "    </tr>\n",
       "    <tr>\n",
       "      <th>26</th>\n",
       "      <td>0</td>\n",
       "      <td>0</td>\n",
       "      <td>no_loss</td>\n",
       "    </tr>\n",
       "    <tr>\n",
       "      <th>27</th>\n",
       "      <td>0</td>\n",
       "      <td>0</td>\n",
       "      <td>no_loss</td>\n",
       "    </tr>\n",
       "    <tr>\n",
       "      <th>28</th>\n",
       "      <td>0</td>\n",
       "      <td>0</td>\n",
       "      <td>no_loss</td>\n",
       "    </tr>\n",
       "    <tr>\n",
       "      <th>29</th>\n",
       "      <td>1</td>\n",
       "      <td>1</td>\n",
       "      <td>no_loss</td>\n",
       "    </tr>\n",
       "  </tbody>\n",
       "</table>\n",
       "</div>"
      ],
      "text/plain": [
       "    y_pred  y_true         cost\n",
       "0        0       0      no_loss\n",
       "1        1       0   lost_R1000\n",
       "2        0       0      no_loss\n",
       "3        0       0      no_loss\n",
       "4        0       0      no_loss\n",
       "5        1       1      no_loss\n",
       "6        0       1  lost_R20000\n",
       "7        1       1      no_loss\n",
       "8        0       0      no_loss\n",
       "9        1       1      no_loss\n",
       "10       0       0      no_loss\n",
       "11       1       0   lost_R1000\n",
       "12       0       0      no_loss\n",
       "13       0       0      no_loss\n",
       "14       0       0      no_loss\n",
       "15       1       1      no_loss\n",
       "16       0       0      no_loss\n",
       "17       0       1  lost_R20000\n",
       "18       0       0      no_loss\n",
       "19       1       0   lost_R1000\n",
       "20       1       1      no_loss\n",
       "21       0       1  lost_R20000\n",
       "22       1       0   lost_R1000\n",
       "23       0       0      no_loss\n",
       "24       0       0      no_loss\n",
       "25       0       0      no_loss\n",
       "26       0       0      no_loss\n",
       "27       0       0      no_loss\n",
       "28       0       0      no_loss\n",
       "29       1       1      no_loss"
      ]
     },
     "execution_count": 21,
     "metadata": {},
     "output_type": "execute_result"
    }
   ],
   "source": [
    "# 21. Sanity check?\n",
    "rf_df_with_answers_.head(30)"
   ]
  },
  {
   "cell_type": "code",
   "execution_count": 22,
   "metadata": {},
   "outputs": [
    {
     "data": {
      "text/plain": [
       "no_loss        213\n",
       "lost_R20000     29\n",
       "lost_R1000      20\n",
       "Name: cost, dtype: int64"
      ]
     },
     "execution_count": 22,
     "metadata": {},
     "output_type": "execute_result"
    }
   ],
   "source": [
    "# 22.\n",
    "rf_df_with_answers_.cost.value_counts()"
   ]
  },
  {
   "cell_type": "markdown",
   "metadata": {},
   "source": [
    "#### So according to the Random forest classifier only:"
   ]
  },
  {
   "cell_type": "code",
   "execution_count": 23,
   "metadata": {},
   "outputs": [
    {
     "name": "stdout",
     "output_type": "stream",
     "text": [
      "213 Predictions resulted with a No loss to the company,\n",
      "while 29 Predictions cost the company R 20 000,\n",
      "and 20 Predictions cost the company R 1 000.\n"
     ]
    }
   ],
   "source": [
    "# 23.\n",
    "print(\"{} Predictions resulted with a No loss to the company,\".format(rf_df_with_answers_.cost.value_counts()[0]))\n",
    "print(\"while {} Predictions cost the company R 20 000,\".format(rf_df_with_answers_.cost.value_counts()[1]))\n",
    "print(\"and {} Predictions cost the company R 1 000.\".format(rf_df_with_answers_.cost.value_counts()[2]))"
   ]
  },
  {
   "cell_type": "markdown",
   "metadata": {},
   "source": [
    "### Save the model to disk"
   ]
  },
  {
   "cell_type": "code",
   "execution_count": 24,
   "metadata": {},
   "outputs": [],
   "source": [
    "# 24.\n",
    "# saving model for future use?\n",
    "from sklearn.externals import joblib\n",
    "rf_filename = 'rf_model.sav'\n",
    "joblib.dump(rfmodel, open(rf_filename, 'wb'))"
   ]
  },
  {
   "cell_type": "markdown",
   "metadata": {},
   "source": [
    "#### Let us investigate the score or accuracy of the RF model"
   ]
  },
  {
   "cell_type": "code",
   "execution_count": 25,
   "metadata": {},
   "outputs": [
    {
     "name": "stdout",
     "output_type": "stream",
     "text": [
      "The accuracy of RandomForestClassifier:  0.812977099237\n"
     ]
    }
   ],
   "source": [
    "# 25.\n",
    "# load the model from disk\n",
    "rf_loaded_model = joblib.load(rf_filename)\n",
    "rf_result = rf_loaded_model.score(X_test, y_test)\n",
    "print(\"The accuracy of RandomForestClassifier: \", rf_result)"
   ]
  },
  {
   "cell_type": "code",
   "execution_count": 26,
   "metadata": {},
   "outputs": [],
   "source": [
    "# 26.\n",
    "from sklearn import metrics"
   ]
  },
  {
   "cell_type": "markdown",
   "metadata": {},
   "source": [
    "### Further analysis:  graphic?\n",
    "Let's plot the the confusion matrix\n"
   ]
  },
  {
   "cell_type": "code",
   "execution_count": 27,
   "metadata": {},
   "outputs": [
    {
     "name": "stdout",
     "output_type": "stream",
     "text": [
      "                  precision    recall  f1-score   support\n",
      "\n",
      "class 0(No loss)       0.83      0.88      0.85       163\n",
      " class 1(Losses)       0.78      0.71      0.74        99\n",
      "\n",
      "     avg / total       0.81      0.81      0.81       262\n",
      "\n"
     ]
    }
   ],
   "source": [
    "# 27.\n",
    "\n",
    "names = [\"No loss\", \"Losses\"]\n",
    "target_names =  ['class {}({})'.format(clsnum, clsname) for clsnum, clsname in enumerate(names)]\n",
    "\n",
    "print(metrics.classification_report(y_test, y_pred,target_names=target_names))\n",
    "cnf_matrix = metrics.confusion_matrix(y_test, y_pred)"
   ]
  },
  {
   "cell_type": "code",
   "execution_count": 28,
   "metadata": {},
   "outputs": [],
   "source": [
    "# @hidden_cell\n",
    "\n",
    "# 28.\n",
    "# Create a function for plotting the confusion matrix\n",
    "import itertools\n",
    "def plot_confusion_matrix(cm, classes,\n",
    "                          title='Confusion matrix',\n",
    "                          cmap=plt.cm.Blues):\n",
    "    \"\"\"\n",
    "    This function prints and plots the confusion matrix.\n",
    "    Normalization can be applied by setting `normalize=True`.\n",
    "    \"\"\"\n",
    "    plt.imshow(cm, interpolation='nearest', cmap=cmap)\n",
    "    plt.title(title)\n",
    "    plt.colorbar()\n",
    "    tick_marks = np.arange(len(classes))\n",
    "    plt.xticks(tick_marks, classes, rotation=45)\n",
    "    plt.yticks(tick_marks, classes)\n",
    "\n",
    "    thresh = cm.max() / 2.\n",
    "    for i, j in itertools.product(range(cm.shape[0]), range(cm.shape[1])):\n",
    "        plt.text(j, i, cm[i, j],\n",
    "                 horizontalalignment=\"center\",\n",
    "                 color=\"white\" if cm[i, j] > thresh else \"black\")\n",
    "\n",
    "    plt.tight_layout()\n",
    "    plt.ylabel('True label')\n",
    "    plt.xlabel('Predicted label')"
   ]
  },
  {
   "cell_type": "code",
   "execution_count": 29,
   "metadata": {},
   "outputs": [
    {
     "data": {
      "image/png": "[encoded data removed]",
      "text/plain": [
       "<Figure size 720x576 with 2 Axes>"
      ]
     },
     "metadata": {},
     "output_type": "display_data"
    }
   ],
   "source": [
    "# 29.\n",
    "plt.figure(figsize=(10, 8))\n",
    "\n",
    "# Plot non-normalized confusion matrix\n",
    "plot_confusion_matrix(cnf_matrix, classes=target_names,\n",
    "                      title='Confusion matrix')"
   ]
  },
  {
   "cell_type": "markdown",
   "metadata": {},
   "source": [
    "### Conclusion"
   ]
  },
  {
   "cell_type": "markdown",
   "metadata": {},
   "source": [
    "From the analysis done above one can see that: The Random Forest classifier which is an example from ensemble methods was not bad at all. The target variable is binary in nature so that is why an extension of a Decision tree model was used. I defined a prediction of 1 when a 1 was expected as a \"No loss\" same applies for a prediction of 0. If the predictions do not match, i referred to that as a \"Loss\" So though the labelling might cause \"confusion\" (no pun intended) to some a reader the off diagonal entries are the incorrectly classified predictions while on the diagonal represent the correct predictions. The confusion matrix still supports the results obtain above in cell with comment number 23. I was not able to figure out what each feature represent though (and the target variable). "
   ]
  },
  {
   "cell_type": "code",
   "execution_count": null,
   "metadata": {},
   "outputs": [],
   "source": []
  }
 ],
 "metadata": {
  "kernelspec": {
   "display_name": "Python 3",
   "language": "python",
   "name": "python3"
  },
  "language_info": {
   "codemirror_mode": {
    "name": "ipython",
    "version": 3
   },
   "file_extension": ".py",
   "mimetype": "text/x-python",
   "name": "python",
   "nbconvert_exporter": "python",
   "pygments_lexer": "ipython3",
   "version": "3.6.6"
  }
 },
 "nbformat": 4,
 "nbformat_minor": 2
}
